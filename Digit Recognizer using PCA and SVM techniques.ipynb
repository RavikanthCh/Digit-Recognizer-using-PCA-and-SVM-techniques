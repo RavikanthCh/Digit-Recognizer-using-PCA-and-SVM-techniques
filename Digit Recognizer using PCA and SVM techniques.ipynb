{
 "cells": [
  {
   "cell_type": "markdown",
   "metadata": {},
   "source": [
    "## IMPORTING DATA"
   ]
  },
  {
   "cell_type": "code",
   "execution_count": 33,
   "metadata": {},
   "outputs": [],
   "source": [
    "import numpy as np\n",
    "import pandas as pd\n",
    "import sklearn \n",
    "import statsmodels.api as sm\n",
    "from sklearn.cluster import k_means\n",
    "import warnings\n",
    "warnings.filterwarnings('ignore')\n",
    "import matplotlib.pyplot as plt\n",
    "import seaborn as sns\n",
    "from sklearn.preprocessing import StandardScaler"
   ]
  },
  {
   "cell_type": "markdown",
   "metadata": {},
   "source": [
    "## READ DATA"
   ]
  },
  {
   "cell_type": "code",
   "execution_count": 34,
   "metadata": {},
   "outputs": [],
   "source": [
    "train=pd.read_csv('train.csv')\n",
    "test=pd.read_csv('test.csv')"
   ]
  },
  {
   "cell_type": "code",
   "execution_count": 35,
   "metadata": {},
   "outputs": [
    {
     "data": {
      "text/html": [
       "<div>\n",
       "<style scoped>\n",
       "    .dataframe tbody tr th:only-of-type {\n",
       "        vertical-align: middle;\n",
       "    }\n",
       "\n",
       "    .dataframe tbody tr th {\n",
       "        vertical-align: top;\n",
       "    }\n",
       "\n",
       "    .dataframe thead th {\n",
       "        text-align: right;\n",
       "    }\n",
       "</style>\n",
       "<table border=\"1\" class=\"dataframe\">\n",
       "  <thead>\n",
       "    <tr style=\"text-align: right;\">\n",
       "      <th></th>\n",
       "      <th>label</th>\n",
       "      <th>pixel0</th>\n",
       "      <th>pixel1</th>\n",
       "      <th>pixel2</th>\n",
       "      <th>pixel3</th>\n",
       "      <th>pixel4</th>\n",
       "      <th>pixel5</th>\n",
       "      <th>pixel6</th>\n",
       "      <th>pixel7</th>\n",
       "      <th>pixel8</th>\n",
       "      <th>...</th>\n",
       "      <th>pixel774</th>\n",
       "      <th>pixel775</th>\n",
       "      <th>pixel776</th>\n",
       "      <th>pixel777</th>\n",
       "      <th>pixel778</th>\n",
       "      <th>pixel779</th>\n",
       "      <th>pixel780</th>\n",
       "      <th>pixel781</th>\n",
       "      <th>pixel782</th>\n",
       "      <th>pixel783</th>\n",
       "    </tr>\n",
       "  </thead>\n",
       "  <tbody>\n",
       "    <tr>\n",
       "      <td>0</td>\n",
       "      <td>1</td>\n",
       "      <td>0</td>\n",
       "      <td>0</td>\n",
       "      <td>0</td>\n",
       "      <td>0</td>\n",
       "      <td>0</td>\n",
       "      <td>0</td>\n",
       "      <td>0</td>\n",
       "      <td>0</td>\n",
       "      <td>0</td>\n",
       "      <td>...</td>\n",
       "      <td>0</td>\n",
       "      <td>0</td>\n",
       "      <td>0</td>\n",
       "      <td>0</td>\n",
       "      <td>0</td>\n",
       "      <td>0</td>\n",
       "      <td>0</td>\n",
       "      <td>0</td>\n",
       "      <td>0</td>\n",
       "      <td>0</td>\n",
       "    </tr>\n",
       "    <tr>\n",
       "      <td>1</td>\n",
       "      <td>0</td>\n",
       "      <td>0</td>\n",
       "      <td>0</td>\n",
       "      <td>0</td>\n",
       "      <td>0</td>\n",
       "      <td>0</td>\n",
       "      <td>0</td>\n",
       "      <td>0</td>\n",
       "      <td>0</td>\n",
       "      <td>0</td>\n",
       "      <td>...</td>\n",
       "      <td>0</td>\n",
       "      <td>0</td>\n",
       "      <td>0</td>\n",
       "      <td>0</td>\n",
       "      <td>0</td>\n",
       "      <td>0</td>\n",
       "      <td>0</td>\n",
       "      <td>0</td>\n",
       "      <td>0</td>\n",
       "      <td>0</td>\n",
       "    </tr>\n",
       "    <tr>\n",
       "      <td>2</td>\n",
       "      <td>1</td>\n",
       "      <td>0</td>\n",
       "      <td>0</td>\n",
       "      <td>0</td>\n",
       "      <td>0</td>\n",
       "      <td>0</td>\n",
       "      <td>0</td>\n",
       "      <td>0</td>\n",
       "      <td>0</td>\n",
       "      <td>0</td>\n",
       "      <td>...</td>\n",
       "      <td>0</td>\n",
       "      <td>0</td>\n",
       "      <td>0</td>\n",
       "      <td>0</td>\n",
       "      <td>0</td>\n",
       "      <td>0</td>\n",
       "      <td>0</td>\n",
       "      <td>0</td>\n",
       "      <td>0</td>\n",
       "      <td>0</td>\n",
       "    </tr>\n",
       "    <tr>\n",
       "      <td>3</td>\n",
       "      <td>4</td>\n",
       "      <td>0</td>\n",
       "      <td>0</td>\n",
       "      <td>0</td>\n",
       "      <td>0</td>\n",
       "      <td>0</td>\n",
       "      <td>0</td>\n",
       "      <td>0</td>\n",
       "      <td>0</td>\n",
       "      <td>0</td>\n",
       "      <td>...</td>\n",
       "      <td>0</td>\n",
       "      <td>0</td>\n",
       "      <td>0</td>\n",
       "      <td>0</td>\n",
       "      <td>0</td>\n",
       "      <td>0</td>\n",
       "      <td>0</td>\n",
       "      <td>0</td>\n",
       "      <td>0</td>\n",
       "      <td>0</td>\n",
       "    </tr>\n",
       "    <tr>\n",
       "      <td>4</td>\n",
       "      <td>0</td>\n",
       "      <td>0</td>\n",
       "      <td>0</td>\n",
       "      <td>0</td>\n",
       "      <td>0</td>\n",
       "      <td>0</td>\n",
       "      <td>0</td>\n",
       "      <td>0</td>\n",
       "      <td>0</td>\n",
       "      <td>0</td>\n",
       "      <td>...</td>\n",
       "      <td>0</td>\n",
       "      <td>0</td>\n",
       "      <td>0</td>\n",
       "      <td>0</td>\n",
       "      <td>0</td>\n",
       "      <td>0</td>\n",
       "      <td>0</td>\n",
       "      <td>0</td>\n",
       "      <td>0</td>\n",
       "      <td>0</td>\n",
       "    </tr>\n",
       "  </tbody>\n",
       "</table>\n",
       "<p>5 rows × 785 columns</p>\n",
       "</div>"
      ],
      "text/plain": [
       "   label  pixel0  pixel1  pixel2  pixel3  pixel4  pixel5  pixel6  pixel7  \\\n",
       "0      1       0       0       0       0       0       0       0       0   \n",
       "1      0       0       0       0       0       0       0       0       0   \n",
       "2      1       0       0       0       0       0       0       0       0   \n",
       "3      4       0       0       0       0       0       0       0       0   \n",
       "4      0       0       0       0       0       0       0       0       0   \n",
       "\n",
       "   pixel8  ...  pixel774  pixel775  pixel776  pixel777  pixel778  pixel779  \\\n",
       "0       0  ...         0         0         0         0         0         0   \n",
       "1       0  ...         0         0         0         0         0         0   \n",
       "2       0  ...         0         0         0         0         0         0   \n",
       "3       0  ...         0         0         0         0         0         0   \n",
       "4       0  ...         0         0         0         0         0         0   \n",
       "\n",
       "   pixel780  pixel781  pixel782  pixel783  \n",
       "0         0         0         0         0  \n",
       "1         0         0         0         0  \n",
       "2         0         0         0         0  \n",
       "3         0         0         0         0  \n",
       "4         0         0         0         0  \n",
       "\n",
       "[5 rows x 785 columns]"
      ]
     },
     "execution_count": 35,
     "metadata": {},
     "output_type": "execute_result"
    }
   ],
   "source": [
    "train.head()"
   ]
  },
  {
   "cell_type": "code",
   "execution_count": 36,
   "metadata": {},
   "outputs": [
    {
     "data": {
      "text/plain": [
       "(42000, 785)"
      ]
     },
     "execution_count": 36,
     "metadata": {},
     "output_type": "execute_result"
    }
   ],
   "source": [
    "train.shape"
   ]
  },
  {
   "cell_type": "code",
   "execution_count": 37,
   "metadata": {},
   "outputs": [
    {
     "data": {
      "text/plain": [
       "0    785\n",
       "dtype: int64"
      ]
     },
     "execution_count": 37,
     "metadata": {},
     "output_type": "execute_result"
    }
   ],
   "source": [
    "(train.isnull().sum()).value_counts() # no null values"
   ]
  },
  {
   "cell_type": "code",
   "execution_count": 38,
   "metadata": {},
   "outputs": [],
   "source": [
    "y_train=train['label']\n",
    "x_train=train.drop('label',axis=1)"
   ]
  },
  {
   "cell_type": "code",
   "execution_count": 39,
   "metadata": {},
   "outputs": [
    {
     "data": {
      "text/plain": [
       "1    4684\n",
       "7    4401\n",
       "3    4351\n",
       "9    4188\n",
       "2    4177\n",
       "6    4137\n",
       "0    4132\n",
       "4    4072\n",
       "8    4063\n",
       "5    3795\n",
       "Name: label, dtype: int64"
      ]
     },
     "execution_count": 39,
     "metadata": {},
     "output_type": "execute_result"
    }
   ],
   "source": [
    "y_train.value_counts()"
   ]
  },
  {
   "cell_type": "code",
   "execution_count": 40,
   "metadata": {},
   "outputs": [
    {
     "data": {
      "text/plain": [
       "(42000, 784)"
      ]
     },
     "execution_count": 40,
     "metadata": {},
     "output_type": "execute_result"
    }
   ],
   "source": [
    "x_train.shape"
   ]
  },
  {
   "cell_type": "code",
   "execution_count": 41,
   "metadata": {},
   "outputs": [
    {
     "data": {
      "text/plain": [
       "(42000, 785)"
      ]
     },
     "execution_count": 41,
     "metadata": {},
     "output_type": "execute_result"
    }
   ],
   "source": [
    "train.shape"
   ]
  },
  {
   "cell_type": "code",
   "execution_count": 42,
   "metadata": {},
   "outputs": [],
   "source": [
    "y_test=train['label']\n",
    "x_test=train.drop('label',axis=1)"
   ]
  },
  {
   "cell_type": "code",
   "execution_count": 43,
   "metadata": {},
   "outputs": [
    {
     "data": {
      "text/html": [
       "<div>\n",
       "<style scoped>\n",
       "    .dataframe tbody tr th:only-of-type {\n",
       "        vertical-align: middle;\n",
       "    }\n",
       "\n",
       "    .dataframe tbody tr th {\n",
       "        vertical-align: top;\n",
       "    }\n",
       "\n",
       "    .dataframe thead th {\n",
       "        text-align: right;\n",
       "    }\n",
       "</style>\n",
       "<table border=\"1\" class=\"dataframe\">\n",
       "  <thead>\n",
       "    <tr style=\"text-align: right;\">\n",
       "      <th></th>\n",
       "      <th>pixel0</th>\n",
       "      <th>pixel1</th>\n",
       "      <th>pixel2</th>\n",
       "      <th>pixel3</th>\n",
       "      <th>pixel4</th>\n",
       "      <th>pixel5</th>\n",
       "      <th>pixel6</th>\n",
       "      <th>pixel7</th>\n",
       "      <th>pixel8</th>\n",
       "      <th>pixel9</th>\n",
       "      <th>...</th>\n",
       "      <th>pixel774</th>\n",
       "      <th>pixel775</th>\n",
       "      <th>pixel776</th>\n",
       "      <th>pixel777</th>\n",
       "      <th>pixel778</th>\n",
       "      <th>pixel779</th>\n",
       "      <th>pixel780</th>\n",
       "      <th>pixel781</th>\n",
       "      <th>pixel782</th>\n",
       "      <th>pixel783</th>\n",
       "    </tr>\n",
       "  </thead>\n",
       "  <tbody>\n",
       "    <tr>\n",
       "      <td>0</td>\n",
       "      <td>0</td>\n",
       "      <td>0</td>\n",
       "      <td>0</td>\n",
       "      <td>0</td>\n",
       "      <td>0</td>\n",
       "      <td>0</td>\n",
       "      <td>0</td>\n",
       "      <td>0</td>\n",
       "      <td>0</td>\n",
       "      <td>0</td>\n",
       "      <td>...</td>\n",
       "      <td>0</td>\n",
       "      <td>0</td>\n",
       "      <td>0</td>\n",
       "      <td>0</td>\n",
       "      <td>0</td>\n",
       "      <td>0</td>\n",
       "      <td>0</td>\n",
       "      <td>0</td>\n",
       "      <td>0</td>\n",
       "      <td>0</td>\n",
       "    </tr>\n",
       "    <tr>\n",
       "      <td>1</td>\n",
       "      <td>0</td>\n",
       "      <td>0</td>\n",
       "      <td>0</td>\n",
       "      <td>0</td>\n",
       "      <td>0</td>\n",
       "      <td>0</td>\n",
       "      <td>0</td>\n",
       "      <td>0</td>\n",
       "      <td>0</td>\n",
       "      <td>0</td>\n",
       "      <td>...</td>\n",
       "      <td>0</td>\n",
       "      <td>0</td>\n",
       "      <td>0</td>\n",
       "      <td>0</td>\n",
       "      <td>0</td>\n",
       "      <td>0</td>\n",
       "      <td>0</td>\n",
       "      <td>0</td>\n",
       "      <td>0</td>\n",
       "      <td>0</td>\n",
       "    </tr>\n",
       "    <tr>\n",
       "      <td>2</td>\n",
       "      <td>0</td>\n",
       "      <td>0</td>\n",
       "      <td>0</td>\n",
       "      <td>0</td>\n",
       "      <td>0</td>\n",
       "      <td>0</td>\n",
       "      <td>0</td>\n",
       "      <td>0</td>\n",
       "      <td>0</td>\n",
       "      <td>0</td>\n",
       "      <td>...</td>\n",
       "      <td>0</td>\n",
       "      <td>0</td>\n",
       "      <td>0</td>\n",
       "      <td>0</td>\n",
       "      <td>0</td>\n",
       "      <td>0</td>\n",
       "      <td>0</td>\n",
       "      <td>0</td>\n",
       "      <td>0</td>\n",
       "      <td>0</td>\n",
       "    </tr>\n",
       "    <tr>\n",
       "      <td>3</td>\n",
       "      <td>0</td>\n",
       "      <td>0</td>\n",
       "      <td>0</td>\n",
       "      <td>0</td>\n",
       "      <td>0</td>\n",
       "      <td>0</td>\n",
       "      <td>0</td>\n",
       "      <td>0</td>\n",
       "      <td>0</td>\n",
       "      <td>0</td>\n",
       "      <td>...</td>\n",
       "      <td>0</td>\n",
       "      <td>0</td>\n",
       "      <td>0</td>\n",
       "      <td>0</td>\n",
       "      <td>0</td>\n",
       "      <td>0</td>\n",
       "      <td>0</td>\n",
       "      <td>0</td>\n",
       "      <td>0</td>\n",
       "      <td>0</td>\n",
       "    </tr>\n",
       "    <tr>\n",
       "      <td>4</td>\n",
       "      <td>0</td>\n",
       "      <td>0</td>\n",
       "      <td>0</td>\n",
       "      <td>0</td>\n",
       "      <td>0</td>\n",
       "      <td>0</td>\n",
       "      <td>0</td>\n",
       "      <td>0</td>\n",
       "      <td>0</td>\n",
       "      <td>0</td>\n",
       "      <td>...</td>\n",
       "      <td>0</td>\n",
       "      <td>0</td>\n",
       "      <td>0</td>\n",
       "      <td>0</td>\n",
       "      <td>0</td>\n",
       "      <td>0</td>\n",
       "      <td>0</td>\n",
       "      <td>0</td>\n",
       "      <td>0</td>\n",
       "      <td>0</td>\n",
       "    </tr>\n",
       "  </tbody>\n",
       "</table>\n",
       "<p>5 rows × 784 columns</p>\n",
       "</div>"
      ],
      "text/plain": [
       "   pixel0  pixel1  pixel2  pixel3  pixel4  pixel5  pixel6  pixel7  pixel8  \\\n",
       "0       0       0       0       0       0       0       0       0       0   \n",
       "1       0       0       0       0       0       0       0       0       0   \n",
       "2       0       0       0       0       0       0       0       0       0   \n",
       "3       0       0       0       0       0       0       0       0       0   \n",
       "4       0       0       0       0       0       0       0       0       0   \n",
       "\n",
       "   pixel9  ...  pixel774  pixel775  pixel776  pixel777  pixel778  pixel779  \\\n",
       "0       0  ...         0         0         0         0         0         0   \n",
       "1       0  ...         0         0         0         0         0         0   \n",
       "2       0  ...         0         0         0         0         0         0   \n",
       "3       0  ...         0         0         0         0         0         0   \n",
       "4       0  ...         0         0         0         0         0         0   \n",
       "\n",
       "   pixel780  pixel781  pixel782  pixel783  \n",
       "0         0         0         0         0  \n",
       "1         0         0         0         0  \n",
       "2         0         0         0         0  \n",
       "3         0         0         0         0  \n",
       "4         0         0         0         0  \n",
       "\n",
       "[5 rows x 784 columns]"
      ]
     },
     "execution_count": 43,
     "metadata": {},
     "output_type": "execute_result"
    }
   ],
   "source": [
    "x_test.head()"
   ]
  },
  {
   "cell_type": "code",
   "execution_count": 44,
   "metadata": {
    "scrolled": true
   },
   "outputs": [
    {
     "data": {
      "text/plain": [
       "0    1\n",
       "1    0\n",
       "2    1\n",
       "3    4\n",
       "4    0\n",
       "Name: label, dtype: int64"
      ]
     },
     "execution_count": 44,
     "metadata": {},
     "output_type": "execute_result"
    }
   ],
   "source": [
    "y_test.head()"
   ]
  },
  {
   "cell_type": "code",
   "execution_count": 45,
   "metadata": {},
   "outputs": [],
   "source": [
    "scaler=StandardScaler()\n",
    "x_train_scaled=scaler.fit_transform(x_train)\n",
    "x_test_scaled=scaler.transform(x_test)"
   ]
  },
  {
   "cell_type": "code",
   "execution_count": 46,
   "metadata": {},
   "outputs": [],
   "source": [
    "from sklearn.decomposition import PCA\n",
    "pca=PCA(random_state=42)"
   ]
  },
  {
   "cell_type": "code",
   "execution_count": 47,
   "metadata": {},
   "outputs": [
    {
     "data": {
      "text/plain": [
       "array([[-5.14047772e+00, -5.22644540e+00,  3.88700075e+00, ...,\n",
       "        -0.00000000e+00,  0.00000000e+00,  0.00000000e+00],\n",
       "       [ 1.92923323e+01,  6.03299601e+00,  1.30814797e+00, ...,\n",
       "        -1.05964850e-15,  3.00039008e-15, -1.91106485e-15],\n",
       "       [-7.64450341e+00, -1.70581328e+00,  2.28932646e+00, ...,\n",
       "        -1.99075793e-15,  3.09160840e-15, -1.87908622e-15],\n",
       "       ...,\n",
       "       [ 4.95391370e-01,  7.07627667e+00, -1.20896995e+01, ...,\n",
       "        -2.75240758e-17,  3.63928461e-18,  6.63636662e-18],\n",
       "       [ 2.30724011e+00, -4.34451279e+00,  6.99847802e-01, ...,\n",
       "        -3.08799631e-17, -2.06613036e-17,  7.73758668e-18],\n",
       "       [-4.80767022e+00,  1.55912058e+00, -2.49793585e+00, ...,\n",
       "        -8.68609132e-18, -1.43608381e-17,  1.57110002e-17]])"
      ]
     },
     "execution_count": 47,
     "metadata": {},
     "output_type": "execute_result"
    }
   ],
   "source": [
    "pca.fit_transform(x_train_scaled,y_train)"
   ]
  },
  {
   "cell_type": "code",
   "execution_count": 48,
   "metadata": {},
   "outputs": [],
   "source": [
    "cumsum=np.cumsum(pca.explained_variance_ratio_)"
   ]
  },
  {
   "cell_type": "code",
   "execution_count": 49,
   "metadata": {},
   "outputs": [
    {
     "data": {
      "text/plain": [
       "array([0.05747953, 0.09859644, 0.13642512, 0.16582374, 0.19138813,\n",
       "       0.21368657, 0.2332121 , 0.25092815, 0.26655475, 0.28080431,\n",
       "       0.2944144 , 0.3066398 , 0.31799717, 0.32912807, 0.33963118,\n",
       "       0.34975443, 0.35926746, 0.36861261, 0.37768519, 0.38653847,\n",
       "       0.39492754, 0.40304781, 0.41079942, 0.41832254, 0.42559944,\n",
       "       0.432587  , 0.43949155, 0.44614078, 0.45244753, 0.45861055,\n",
       "       0.46471977, 0.47069014, 0.47646297, 0.4821998 , 0.48784802,\n",
       "       0.49331123, 0.49870554, 0.50394915, 0.50899758, 0.51388288,\n",
       "       0.51870532, 0.52346433, 0.52806441, 0.53264069, 0.53713653,\n",
       "       0.54160375, 0.54604212, 0.55041049, 0.55473762, 0.55900789,\n",
       "       0.56320058, 0.56732239, 0.57134699, 0.57534133, 0.57929025,\n",
       "       0.5831983 , 0.58699728, 0.59072182, 0.59440595, 0.59806318,\n",
       "       0.60159596, 0.60510684, 0.60856097, 0.61197491, 0.61535276,\n",
       "       0.61871752, 0.62203462, 0.62533187, 0.62853203, 0.63169979,\n",
       "       0.63482674, 0.63794535, 0.64102748, 0.64406024, 0.64707533,\n",
       "       0.65004673, 0.65299522, 0.6559315 , 0.65880998, 0.66167904,\n",
       "       0.66451075, 0.6673396 , 0.67015662, 0.67294877, 0.67571719,\n",
       "       0.67848034, 0.68121958, 0.68393768, 0.68661909, 0.68927351,\n",
       "       0.69189423, 0.69449587, 0.69707783, 0.6996266 , 0.70216164,\n",
       "       0.70468565, 0.70718639, 0.70964442, 0.71208801, 0.71450189,\n",
       "       0.71687841, 0.7192409 , 0.72156422, 0.72386665, 0.72616162,\n",
       "       0.72842625, 0.73067584, 0.73291254, 0.73511966, 0.73732161,\n",
       "       0.7394897 , 0.74163667, 0.74374849, 0.74584736, 0.74789612,\n",
       "       0.74993645, 0.75195665, 0.75395937, 0.75592944, 0.75788673,\n",
       "       0.75983091, 0.76174854, 0.76365204, 0.76555271, 0.76744833,\n",
       "       0.76930361, 0.77114669, 0.77297291, 0.77477035, 0.77656383,\n",
       "       0.77834174, 0.78010356, 0.78184243, 0.78357676, 0.78529652,\n",
       "       0.78698193, 0.7886615 , 0.79032534, 0.79196503, 0.79359699,\n",
       "       0.79521324, 0.79682165, 0.79841858, 0.8000038 , 0.80156846,\n",
       "       0.80312616, 0.80466843, 0.80619955, 0.80772682, 0.80922811,\n",
       "       0.81072156, 0.81219981, 0.81367587, 0.81514916, 0.81660391,\n",
       "       0.81805243, 0.81948659, 0.82091142, 0.82232948, 0.82374309,\n",
       "       0.82515633, 0.82656693, 0.82797578, 0.82938061, 0.83078073,\n",
       "       0.83217216, 0.83355664, 0.83492984, 0.83629397, 0.83764125,\n",
       "       0.83898541, 0.84031795, 0.84163577, 0.84294797, 0.8442482 ,\n",
       "       0.84554684, 0.84682856, 0.84810815, 0.84938336, 0.85065109,\n",
       "       0.85191216, 0.85315534, 0.85439717, 0.85563151, 0.85684949,\n",
       "       0.85804975, 0.85923712, 0.86041158, 0.86157776, 0.86273487,\n",
       "       0.86388295, 0.86502924, 0.86616375, 0.8672719 , 0.86836817,\n",
       "       0.86945731, 0.87053538, 0.87160602, 0.8726694 , 0.87372552,\n",
       "       0.87477442, 0.87581824, 0.87683903, 0.87784948, 0.87885684,\n",
       "       0.87984839, 0.88083507, 0.88180682, 0.88277577, 0.88373848,\n",
       "       0.88469116, 0.88563389, 0.88657098, 0.88749903, 0.88841364,\n",
       "       0.88932415, 0.89022623, 0.89112407, 0.89200943, 0.89289163,\n",
       "       0.89375793, 0.89462035, 0.8954782 , 0.89633125, 0.89717155,\n",
       "       0.89800558, 0.89883071, 0.89965113, 0.90045879, 0.90126189,\n",
       "       0.90206125, 0.90285235, 0.90363759, 0.90440833, 0.90516431,\n",
       "       0.90591552, 0.90665683, 0.90739293, 0.90812676, 0.90885368,\n",
       "       0.90957923, 0.91029421, 0.91099913, 0.91169541, 0.91239076,\n",
       "       0.91308332, 0.91377194, 0.91445462, 0.91512431, 0.91578939,\n",
       "       0.91644951, 0.91709912, 0.91773933, 0.91836765, 0.91899275,\n",
       "       0.91961314, 0.92022623, 0.92083284, 0.92143786, 0.92203922,\n",
       "       0.92263451, 0.92322307, 0.9238081 , 0.92439132, 0.9249663 ,\n",
       "       0.92553891, 0.92610831, 0.92667439, 0.92723675, 0.92778879,\n",
       "       0.92833606, 0.92888156, 0.92942412, 0.92996017, 0.93048724,\n",
       "       0.9310125 , 0.93153422, 0.93205167, 0.93256331, 0.93306883,\n",
       "       0.93357062, 0.93406982, 0.93456619, 0.93505724, 0.93554424,\n",
       "       0.93602494, 0.93650332, 0.93697721, 0.93744219, 0.9379065 ,\n",
       "       0.93836222, 0.93881608, 0.93926793, 0.93971824, 0.94016169,\n",
       "       0.94060241, 0.94103854, 0.94147119, 0.94189955, 0.9423208 ,\n",
       "       0.94273872, 0.94315277, 0.94356612, 0.94397453, 0.94438228,\n",
       "       0.9447849 , 0.94518613, 0.94558411, 0.9459804 , 0.94637458,\n",
       "       0.94676235, 0.94714584, 0.94752827, 0.94790844, 0.94828709,\n",
       "       0.94865931, 0.94902986, 0.94939613, 0.9497578 , 0.95011467,\n",
       "       0.95047087, 0.95082441, 0.95117625, 0.95152478, 0.95186881,\n",
       "       0.95220749, 0.95254584, 0.95288365, 0.95321844, 0.95354941,\n",
       "       0.95387735, 0.95420435, 0.95452903, 0.95485158, 0.95517264,\n",
       "       0.95549109, 0.95580702, 0.95612087, 0.95643062, 0.95673893,\n",
       "       0.95704501, 0.95735021, 0.95765198, 0.95795106, 0.95824908,\n",
       "       0.95854255, 0.95883542, 0.9591254 , 0.95941332, 0.95969896,\n",
       "       0.95998259, 0.96026476, 0.96054456, 0.96082384, 0.96110139,\n",
       "       0.96137344, 0.9616436 , 0.96191077, 0.96217612, 0.96243947,\n",
       "       0.96270176, 0.9629615 , 0.96322017, 0.96347626, 0.96373038,\n",
       "       0.96398342, 0.96423396, 0.9644825 , 0.96473006, 0.96497696,\n",
       "       0.96522244, 0.96546614, 0.96570788, 0.96594731, 0.96618606,\n",
       "       0.96642245, 0.96665835, 0.96689079, 0.96712146, 0.96735165,\n",
       "       0.96757867, 0.96780537, 0.96803101, 0.96825567, 0.96847766,\n",
       "       0.96869949, 0.96891979, 0.96913787, 0.96935542, 0.9695712 ,\n",
       "       0.96978547, 0.96999888, 0.97020993, 0.97041934, 0.97062815,\n",
       "       0.97083583, 0.97104198, 0.97124721, 0.97145048, 0.97165338,\n",
       "       0.97185403, 0.97205441, 0.97225262, 0.97244913, 0.9726443 ,\n",
       "       0.97283855, 0.97303229, 0.97322419, 0.97341505, 0.97360523,\n",
       "       0.97379453, 0.97398266, 0.97416957, 0.97435335, 0.97453621,\n",
       "       0.97471712, 0.97489661, 0.97507492, 0.97525261, 0.97542842,\n",
       "       0.97560348, 0.97577802, 0.97595116, 0.97612301, 0.97629338,\n",
       "       0.97646352, 0.97663294, 0.9768006 , 0.97696771, 0.97713426,\n",
       "       0.97730003, 0.97746492, 0.97762943, 0.9777927 , 0.97795468,\n",
       "       0.97811523, 0.97827402, 0.97843151, 0.978588  , 0.97874411,\n",
       "       0.97889933, 0.97905393, 0.97920678, 0.97935841, 0.97950928,\n",
       "       0.97965865, 0.97980725, 0.97995496, 0.980102  , 0.98024794,\n",
       "       0.98039371, 0.98053889, 0.98068291, 0.98082632, 0.98096957,\n",
       "       0.9811121 , 0.98125382, 0.98139461, 0.9815347 , 0.98167438,\n",
       "       0.98181287, 0.98195082, 0.98208821, 0.98222492, 0.98236075,\n",
       "       0.98249549, 0.98262987, 0.9827638 , 0.98289674, 0.98302879,\n",
       "       0.98316035, 0.98329113, 0.983421  , 0.98354976, 0.98367806,\n",
       "       0.98380606, 0.98393314, 0.98405995, 0.98418536, 0.98431005,\n",
       "       0.98443439, 0.98455791, 0.98468087, 0.98480363, 0.98492596,\n",
       "       0.98504731, 0.98516769, 0.98528736, 0.98540626, 0.98552492,\n",
       "       0.98564314, 0.98576064, 0.98587764, 0.98599324, 0.98610798,\n",
       "       0.98622217, 0.98633602, 0.98644941, 0.98656171, 0.98667346,\n",
       "       0.98678471, 0.98689528, 0.98700501, 0.9871146 , 0.98722303,\n",
       "       0.98733125, 0.98743899, 0.98754644, 0.98765324, 0.98775964,\n",
       "       0.98786548, 0.98797075, 0.98807536, 0.98817941, 0.98828334,\n",
       "       0.98838678, 0.9884897 , 0.98859176, 0.98869309, 0.98879385,\n",
       "       0.98889428, 0.9889938 , 0.9890931 , 0.98919218, 0.98929023,\n",
       "       0.98938815, 0.98948572, 0.98958278, 0.98967974, 0.98977611,\n",
       "       0.98987153, 0.98996674, 0.99006142, 0.99015522, 0.99024837,\n",
       "       0.99034105, 0.99043368, 0.99052533, 0.99061644, 0.99070707,\n",
       "       0.99079742, 0.99088739, 0.99097714, 0.99106628, 0.99115461,\n",
       "       0.99124261, 0.99133016, 0.99141668, 0.9915029 , 0.99158864,\n",
       "       0.99167409, 0.99175931, 0.9918439 , 0.9919278 , 0.99201146,\n",
       "       0.99209461, 0.99217702, 0.99225887, 0.99234026, 0.99242121,\n",
       "       0.99250179, 0.99258147, 0.99266064, 0.99273952, 0.99281823,\n",
       "       0.99289654, 0.99297441, 0.99305226, 0.9931298 , 0.99320639,\n",
       "       0.99328209, 0.99335773, 0.99343299, 0.99350774, 0.99358209,\n",
       "       0.99365578, 0.99372944, 0.99380279, 0.99387542, 0.99394787,\n",
       "       0.99402006, 0.99409177, 0.99416272, 0.9942335 , 0.99430367,\n",
       "       0.99437334, 0.99444292, 0.99451234, 0.9945812 , 0.99464962,\n",
       "       0.99471751, 0.99478515, 0.99485238, 0.99491954, 0.99498623,\n",
       "       0.99505257, 0.99511855, 0.9951842 , 0.99524929, 0.99531375,\n",
       "       0.99537797, 0.99544187, 0.99550559, 0.99556916, 0.99563201,\n",
       "       0.99569452, 0.9957568 , 0.99581857, 0.99588015, 0.99594146,\n",
       "       0.99600236, 0.99606271, 0.99612293, 0.99618295, 0.99624229,\n",
       "       0.99630116, 0.99635951, 0.99641763, 0.99647521, 0.99653231,\n",
       "       0.99658915, 0.99664591, 0.99670243, 0.99675859, 0.99681447,\n",
       "       0.99687018, 0.99692562, 0.99698034, 0.9970345 , 0.99708865,\n",
       "       0.99714217, 0.99719553, 0.99724836, 0.99730117, 0.99735366,\n",
       "       0.99740579, 0.99745769, 0.99750916, 0.99756034, 0.9976109 ,\n",
       "       0.99766113, 0.99771108, 0.99776064, 0.99780982, 0.99785879,\n",
       "       0.99790741, 0.99795581, 0.99800403, 0.99805172, 0.99809859,\n",
       "       0.99814521, 0.99819163, 0.99823768, 0.9982834 , 0.99832864,\n",
       "       0.99837362, 0.99841846, 0.998463  , 0.99850725, 0.99855093,\n",
       "       0.99859431, 0.99863746, 0.99868022, 0.99872235, 0.99876408,\n",
       "       0.99880547, 0.99884663, 0.9988873 , 0.99892773, 0.99896791,\n",
       "       0.99900768, 0.99904692, 0.99908598, 0.99912468, 0.99916293,\n",
       "       0.99920091, 0.99923877, 0.99927627, 0.99931354, 0.99935028,\n",
       "       0.99938653, 0.99942236, 0.99945805, 0.99949309, 0.99952768,\n",
       "       0.99956194, 0.99959591, 0.99962951, 0.99966264, 0.99969562,\n",
       "       0.99972833, 0.99976054, 0.99979165, 0.99982188, 0.99985177,\n",
       "       0.99988112, 0.99990956, 0.99993576, 0.99996124, 0.99997784,\n",
       "       0.99998979, 0.9999965 , 0.99999916, 1.        , 1.        ,\n",
       "       1.        , 1.        , 1.        , 1.        , 1.        ,\n",
       "       1.        , 1.        , 1.        , 1.        , 1.        ,\n",
       "       1.        , 1.        , 1.        , 1.        , 1.        ,\n",
       "       1.        , 1.        , 1.        , 1.        , 1.        ,\n",
       "       1.        , 1.        , 1.        , 1.        , 1.        ,\n",
       "       1.        , 1.        , 1.        , 1.        , 1.        ,\n",
       "       1.        , 1.        , 1.        , 1.        , 1.        ,\n",
       "       1.        , 1.        , 1.        , 1.        , 1.        ,\n",
       "       1.        , 1.        , 1.        , 1.        , 1.        ,\n",
       "       1.        , 1.        , 1.        , 1.        , 1.        ,\n",
       "       1.        , 1.        , 1.        , 1.        , 1.        ,\n",
       "       1.        , 1.        , 1.        , 1.        , 1.        ,\n",
       "       1.        , 1.        , 1.        , 1.        , 1.        ,\n",
       "       1.        , 1.        , 1.        , 1.        , 1.        ,\n",
       "       1.        , 1.        , 1.        , 1.        , 1.        ,\n",
       "       1.        , 1.        , 1.        , 1.        ])"
      ]
     },
     "execution_count": 49,
     "metadata": {},
     "output_type": "execute_result"
    }
   ],
   "source": [
    "cumsum"
   ]
  },
  {
   "cell_type": "code",
   "execution_count": 50,
   "metadata": {},
   "outputs": [
    {
     "data": {
      "image/png": "[encoded data removed]",
      "text/plain": [
       "<Figure size 864x576 with 1 Axes>"
      ]
     },
     "metadata": {
      "needs_background": "light"
     },
     "output_type": "display_data"
    }
   ],
   "source": [
    "fig = plt.figure(figsize=[12,8])\n",
    "plt.vlines(x=250, ymax=1, ymin=0, colors=\"r\", linestyles=\"--\")\n",
    "plt.hlines(y=0.91, xmax=800, xmin=0, colors=\"g\", linestyles=\"--\")\n",
    "sns.lineplot(y=cumsum,x=range(len(cumsum)))\n",
    "plt.yticks(np.arange(0, 1.1, 0.1))\n",
    "plt.show()"
   ]
  },
  {
   "cell_type": "code",
   "execution_count": 51,
   "metadata": {},
   "outputs": [],
   "source": [
    "from sklearn.decomposition import IncrementalPCA"
   ]
  },
  {
   "cell_type": "code",
   "execution_count": 52,
   "metadata": {},
   "outputs": [],
   "source": [
    "pca=IncrementalPCA(n_components=250)\n",
    "x_train_pca=pca.fit_transform(x_train_scaled)"
   ]
  },
  {
   "cell_type": "code",
   "execution_count": 53,
   "metadata": {},
   "outputs": [],
   "source": [
    "cumsum=np.cumsum(pca.explained_variance_ratio_)"
   ]
  },
  {
   "cell_type": "code",
   "execution_count": 54,
   "metadata": {},
   "outputs": [
    {
     "data": {
      "text/plain": [
       "array([0.05747952, 0.09859638, 0.13642501, 0.16582359, 0.19138795,\n",
       "       0.21368632, 0.2332117 , 0.25092765, 0.26655408, 0.28080345,\n",
       "       0.29441336, 0.30663837, 0.31799552, 0.32912625, 0.33962896,\n",
       "       0.34975187, 0.35926426, 0.36860909, 0.37768096, 0.38653317,\n",
       "       0.3949213 , 0.40304096, 0.41079197, 0.41831456, 0.42559033,\n",
       "       0.43257682, 0.43947988, 0.44612698, 0.4524318 , 0.45859162,\n",
       "       0.46469927, 0.47066847, 0.47643795, 0.48217409, 0.48782018,\n",
       "       0.49328173, 0.49867375, 0.50391643, 0.50896179, 0.51384477,\n",
       "       0.51866444, 0.52342084, 0.52801799, 0.53259176, 0.53708524,\n",
       "       0.54154913, 0.54598603, 0.55035132, 0.5546731 , 0.55893933,\n",
       "       0.56312988, 0.56724912, 0.57126912, 0.57526019, 0.57920687,\n",
       "       0.58311132, 0.58690603, 0.59062743, 0.59430741, 0.59795732,\n",
       "       0.60148563, 0.60499155, 0.60843703, 0.61184455, 0.61521717,\n",
       "       0.61857347, 0.62188523, 0.62517418, 0.62836739, 0.63152778,\n",
       "       0.63464895, 0.63776239, 0.64083802, 0.64386112, 0.64686875,\n",
       "       0.64982896, 0.65276857, 0.6556955 , 0.65856817, 0.66143063,\n",
       "       0.66425578, 0.66707691, 0.66989244, 0.67268001, 0.67544212,\n",
       "       0.67819741, 0.68092949, 0.68364207, 0.68631706, 0.68896613,\n",
       "       0.69156731, 0.69415735, 0.69671957, 0.69925847, 0.70178205,\n",
       "       0.70428692, 0.70677714, 0.70922846, 0.71166006, 0.71405393,\n",
       "       0.71642185, 0.71875986, 0.72105944, 0.72334958, 0.72561113,\n",
       "       0.72785195, 0.73008523, 0.73231165, 0.73450914, 0.73670506,\n",
       "       0.73884868, 0.74099056, 0.74308608, 0.74517505, 0.74721594,\n",
       "       0.74923968, 0.75125446, 0.75324791, 0.75521461, 0.75716258,\n",
       "       0.75909615, 0.76100666, 0.76290265, 0.76479346, 0.76668152,\n",
       "       0.76853007, 0.77036063, 0.77217977, 0.77397203, 0.7757552 ,\n",
       "       0.77752679, 0.77927785, 0.78101082, 0.78273251, 0.78444478,\n",
       "       0.78611984, 0.78778681, 0.78944074, 0.79106844, 0.79268149,\n",
       "       0.79429042, 0.79588742, 0.79747309, 0.79904966, 0.80060853,\n",
       "       0.80215959, 0.80369404, 0.80521814, 0.80672649, 0.80821941,\n",
       "       0.80970563, 0.81117793, 0.81264772, 0.81410846, 0.81555486,\n",
       "       0.81699489, 0.81842191, 0.81984215, 0.82125681, 0.82266936,\n",
       "       0.82407955, 0.82548837, 0.82689478, 0.82829263, 0.82968597,\n",
       "       0.83107166, 0.8324439 , 0.83380941, 0.8351672 , 0.83650809,\n",
       "       0.83784182, 0.83916479, 0.8404769 , 0.84177283, 0.84306452,\n",
       "       0.84434513, 0.84562231, 0.84689511, 0.84815574, 0.84940905,\n",
       "       0.85065966, 0.8518945 , 0.85312544, 0.85435254, 0.85556235,\n",
       "       0.85675583, 0.85793153, 0.85909471, 0.86025075, 0.86139056,\n",
       "       0.86252691, 0.86365203, 0.86477196, 0.86586922, 0.86695184,\n",
       "       0.86802674, 0.8690971 , 0.87015347, 0.87120512, 0.87225226,\n",
       "       0.87328608, 0.87431416, 0.87531506, 0.87631498, 0.87730489,\n",
       "       0.87828495, 0.87925273, 0.88021512, 0.8811699 , 0.88211049,\n",
       "       0.88304675, 0.88397187, 0.88489081, 0.88579913, 0.8867014 ,\n",
       "       0.88759513, 0.88848253, 0.88936607, 0.89023502, 0.89110335,\n",
       "       0.89195047, 0.8927903 , 0.89362315, 0.89445154, 0.89527002,\n",
       "       0.89608763, 0.89688819, 0.89768211, 0.89847115, 0.89925715,\n",
       "       0.90003739, 0.90080264, 0.90155775, 0.90230428, 0.90303975,\n",
       "       0.90376666, 0.90448672, 0.9052045 , 0.90591334, 0.90661205,\n",
       "       0.90730443, 0.90799304, 0.90867399, 0.90935014, 0.91002091,\n",
       "       0.91068796, 0.91134449, 0.91198563, 0.91261268, 0.91323136])"
      ]
     },
     "execution_count": 54,
     "metadata": {},
     "output_type": "execute_result"
    }
   ],
   "source": [
    "cumsum"
   ]
  },
  {
   "cell_type": "code",
   "execution_count": 55,
   "metadata": {},
   "outputs": [],
   "source": [
    "x_train_final=pd.DataFrame(x_train_pca)"
   ]
  },
  {
   "cell_type": "code",
   "execution_count": 56,
   "metadata": {},
   "outputs": [
    {
     "data": {
      "text/html": [
       "<div>\n",
       "<style scoped>\n",
       "    .dataframe tbody tr th:only-of-type {\n",
       "        vertical-align: middle;\n",
       "    }\n",
       "\n",
       "    .dataframe tbody tr th {\n",
       "        vertical-align: top;\n",
       "    }\n",
       "\n",
       "    .dataframe thead th {\n",
       "        text-align: right;\n",
       "    }\n",
       "</style>\n",
       "<table border=\"1\" class=\"dataframe\">\n",
       "  <thead>\n",
       "    <tr style=\"text-align: right;\">\n",
       "      <th></th>\n",
       "      <th>0</th>\n",
       "      <th>1</th>\n",
       "      <th>2</th>\n",
       "      <th>3</th>\n",
       "      <th>4</th>\n",
       "      <th>5</th>\n",
       "      <th>6</th>\n",
       "      <th>7</th>\n",
       "      <th>8</th>\n",
       "      <th>9</th>\n",
       "      <th>...</th>\n",
       "      <th>240</th>\n",
       "      <th>241</th>\n",
       "      <th>242</th>\n",
       "      <th>243</th>\n",
       "      <th>244</th>\n",
       "      <th>245</th>\n",
       "      <th>246</th>\n",
       "      <th>247</th>\n",
       "      <th>248</th>\n",
       "      <th>249</th>\n",
       "    </tr>\n",
       "  </thead>\n",
       "  <tbody>\n",
       "    <tr>\n",
       "      <td>0</td>\n",
       "      <td>-5.140477</td>\n",
       "      <td>-5.226468</td>\n",
       "      <td>3.886991</td>\n",
       "      <td>0.901554</td>\n",
       "      <td>-4.929063</td>\n",
       "      <td>2.035396</td>\n",
       "      <td>-4.707070</td>\n",
       "      <td>-4.767223</td>\n",
       "      <td>0.230824</td>\n",
       "      <td>-1.461174</td>\n",
       "      <td>...</td>\n",
       "      <td>-0.032888</td>\n",
       "      <td>0.758930</td>\n",
       "      <td>0.113027</td>\n",
       "      <td>-0.214480</td>\n",
       "      <td>0.087568</td>\n",
       "      <td>0.458328</td>\n",
       "      <td>0.266982</td>\n",
       "      <td>-0.177202</td>\n",
       "      <td>0.025569</td>\n",
       "      <td>0.232638</td>\n",
       "    </tr>\n",
       "    <tr>\n",
       "      <td>1</td>\n",
       "      <td>19.292332</td>\n",
       "      <td>6.033029</td>\n",
       "      <td>1.308170</td>\n",
       "      <td>2.383256</td>\n",
       "      <td>-3.095249</td>\n",
       "      <td>-1.791090</td>\n",
       "      <td>3.773000</td>\n",
       "      <td>0.154027</td>\n",
       "      <td>-4.115206</td>\n",
       "      <td>-4.299037</td>\n",
       "      <td>...</td>\n",
       "      <td>-0.269909</td>\n",
       "      <td>0.287691</td>\n",
       "      <td>-0.474057</td>\n",
       "      <td>0.132471</td>\n",
       "      <td>0.356589</td>\n",
       "      <td>-0.262992</td>\n",
       "      <td>0.680702</td>\n",
       "      <td>0.556077</td>\n",
       "      <td>-0.602038</td>\n",
       "      <td>-0.261185</td>\n",
       "    </tr>\n",
       "    <tr>\n",
       "      <td>2</td>\n",
       "      <td>-7.644499</td>\n",
       "      <td>-1.705798</td>\n",
       "      <td>2.289327</td>\n",
       "      <td>-2.241142</td>\n",
       "      <td>-5.094477</td>\n",
       "      <td>-4.152081</td>\n",
       "      <td>1.012019</td>\n",
       "      <td>1.732595</td>\n",
       "      <td>0.436202</td>\n",
       "      <td>-0.073526</td>\n",
       "      <td>...</td>\n",
       "      <td>0.634648</td>\n",
       "      <td>-0.284925</td>\n",
       "      <td>0.090322</td>\n",
       "      <td>0.082116</td>\n",
       "      <td>0.348040</td>\n",
       "      <td>0.007318</td>\n",
       "      <td>-0.401325</td>\n",
       "      <td>-0.894845</td>\n",
       "      <td>-0.228741</td>\n",
       "      <td>-0.010822</td>\n",
       "    </tr>\n",
       "    <tr>\n",
       "      <td>3</td>\n",
       "      <td>-0.474249</td>\n",
       "      <td>5.836091</td>\n",
       "      <td>2.008598</td>\n",
       "      <td>-4.271167</td>\n",
       "      <td>-2.377729</td>\n",
       "      <td>2.179875</td>\n",
       "      <td>-4.397944</td>\n",
       "      <td>-0.353640</td>\n",
       "      <td>0.991715</td>\n",
       "      <td>5.501532</td>\n",
       "      <td>...</td>\n",
       "      <td>0.567852</td>\n",
       "      <td>0.938572</td>\n",
       "      <td>-0.199528</td>\n",
       "      <td>-0.435639</td>\n",
       "      <td>0.321724</td>\n",
       "      <td>1.100357</td>\n",
       "      <td>1.655579</td>\n",
       "      <td>-0.271283</td>\n",
       "      <td>0.844534</td>\n",
       "      <td>-1.195976</td>\n",
       "    </tr>\n",
       "    <tr>\n",
       "      <td>4</td>\n",
       "      <td>26.559579</td>\n",
       "      <td>6.024807</td>\n",
       "      <td>0.933168</td>\n",
       "      <td>3.012646</td>\n",
       "      <td>-9.489092</td>\n",
       "      <td>-2.331205</td>\n",
       "      <td>6.149654</td>\n",
       "      <td>-1.783677</td>\n",
       "      <td>-4.123184</td>\n",
       "      <td>-5.757634</td>\n",
       "      <td>...</td>\n",
       "      <td>-0.556693</td>\n",
       "      <td>1.692625</td>\n",
       "      <td>-0.329418</td>\n",
       "      <td>-0.695266</td>\n",
       "      <td>0.581043</td>\n",
       "      <td>-0.542094</td>\n",
       "      <td>0.934397</td>\n",
       "      <td>0.599890</td>\n",
       "      <td>0.107686</td>\n",
       "      <td>-0.296380</td>\n",
       "    </tr>\n",
       "  </tbody>\n",
       "</table>\n",
       "<p>5 rows × 250 columns</p>\n",
       "</div>"
      ],
      "text/plain": [
       "         0         1         2         3         4         5         6    \\\n",
       "0  -5.140477 -5.226468  3.886991  0.901554 -4.929063  2.035396 -4.707070   \n",
       "1  19.292332  6.033029  1.308170  2.383256 -3.095249 -1.791090  3.773000   \n",
       "2  -7.644499 -1.705798  2.289327 -2.241142 -5.094477 -4.152081  1.012019   \n",
       "3  -0.474249  5.836091  2.008598 -4.271167 -2.377729  2.179875 -4.397944   \n",
       "4  26.559579  6.024807  0.933168  3.012646 -9.489092 -2.331205  6.149654   \n",
       "\n",
       "        7         8         9    ...       240       241       242       243  \\\n",
       "0 -4.767223  0.230824 -1.461174  ... -0.032888  0.758930  0.113027 -0.214480   \n",
       "1  0.154027 -4.115206 -4.299037  ... -0.269909  0.287691 -0.474057  0.132471   \n",
       "2  1.732595  0.436202 -0.073526  ...  0.634648 -0.284925  0.090322  0.082116   \n",
       "3 -0.353640  0.991715  5.501532  ...  0.567852  0.938572 -0.199528 -0.435639   \n",
       "4 -1.783677 -4.123184 -5.757634  ... -0.556693  1.692625 -0.329418 -0.695266   \n",
       "\n",
       "        244       245       246       247       248       249  \n",
       "0  0.087568  0.458328  0.266982 -0.177202  0.025569  0.232638  \n",
       "1  0.356589 -0.262992  0.680702  0.556077 -0.602038 -0.261185  \n",
       "2  0.348040  0.007318 -0.401325 -0.894845 -0.228741 -0.010822  \n",
       "3  0.321724  1.100357  1.655579 -0.271283  0.844534 -1.195976  \n",
       "4  0.581043 -0.542094  0.934397  0.599890  0.107686 -0.296380  \n",
       "\n",
       "[5 rows x 250 columns]"
      ]
     },
     "execution_count": 56,
     "metadata": {},
     "output_type": "execute_result"
    }
   ],
   "source": [
    "x_train_final.head()"
   ]
  },
  {
   "cell_type": "code",
   "execution_count": 57,
   "metadata": {},
   "outputs": [],
   "source": [
    "train_final_df=pd.concat([y_train,x_train_final],axis=1)"
   ]
  },
  {
   "cell_type": "code",
   "execution_count": 58,
   "metadata": {},
   "outputs": [],
   "source": [
    "x_test_pca=pca.transform(x_test_scaled)"
   ]
  },
  {
   "cell_type": "code",
   "execution_count": 59,
   "metadata": {},
   "outputs": [],
   "source": [
    "x_test_final=pd.DataFrame(x_test_pca)"
   ]
  },
  {
   "cell_type": "code",
   "execution_count": 60,
   "metadata": {},
   "outputs": [],
   "source": [
    "test_final_df=pd.concat([y_test,x_test_final],axis=1)"
   ]
  },
  {
   "cell_type": "code",
   "execution_count": 61,
   "metadata": {},
   "outputs": [
    {
     "data": {
      "text/html": [
       "<div>\n",
       "<style scoped>\n",
       "    .dataframe tbody tr th:only-of-type {\n",
       "        vertical-align: middle;\n",
       "    }\n",
       "\n",
       "    .dataframe tbody tr th {\n",
       "        vertical-align: top;\n",
       "    }\n",
       "\n",
       "    .dataframe thead th {\n",
       "        text-align: right;\n",
       "    }\n",
       "</style>\n",
       "<table border=\"1\" class=\"dataframe\">\n",
       "  <thead>\n",
       "    <tr style=\"text-align: right;\">\n",
       "      <th></th>\n",
       "      <th>label</th>\n",
       "      <th>0</th>\n",
       "      <th>1</th>\n",
       "      <th>2</th>\n",
       "      <th>3</th>\n",
       "      <th>4</th>\n",
       "      <th>5</th>\n",
       "      <th>6</th>\n",
       "      <th>7</th>\n",
       "      <th>8</th>\n",
       "      <th>...</th>\n",
       "      <th>240</th>\n",
       "      <th>241</th>\n",
       "      <th>242</th>\n",
       "      <th>243</th>\n",
       "      <th>244</th>\n",
       "      <th>245</th>\n",
       "      <th>246</th>\n",
       "      <th>247</th>\n",
       "      <th>248</th>\n",
       "      <th>249</th>\n",
       "    </tr>\n",
       "  </thead>\n",
       "  <tbody>\n",
       "    <tr>\n",
       "      <td>0</td>\n",
       "      <td>1</td>\n",
       "      <td>-5.140477</td>\n",
       "      <td>-5.226468</td>\n",
       "      <td>3.886991</td>\n",
       "      <td>0.901554</td>\n",
       "      <td>-4.929063</td>\n",
       "      <td>2.035396</td>\n",
       "      <td>-4.707070</td>\n",
       "      <td>-4.767223</td>\n",
       "      <td>0.230824</td>\n",
       "      <td>...</td>\n",
       "      <td>-0.032888</td>\n",
       "      <td>0.758930</td>\n",
       "      <td>0.113027</td>\n",
       "      <td>-0.214480</td>\n",
       "      <td>0.087568</td>\n",
       "      <td>0.458328</td>\n",
       "      <td>0.266982</td>\n",
       "      <td>-0.177202</td>\n",
       "      <td>0.025569</td>\n",
       "      <td>0.232638</td>\n",
       "    </tr>\n",
       "    <tr>\n",
       "      <td>1</td>\n",
       "      <td>0</td>\n",
       "      <td>19.292332</td>\n",
       "      <td>6.033029</td>\n",
       "      <td>1.308170</td>\n",
       "      <td>2.383256</td>\n",
       "      <td>-3.095249</td>\n",
       "      <td>-1.791090</td>\n",
       "      <td>3.773000</td>\n",
       "      <td>0.154027</td>\n",
       "      <td>-4.115206</td>\n",
       "      <td>...</td>\n",
       "      <td>-0.269909</td>\n",
       "      <td>0.287691</td>\n",
       "      <td>-0.474057</td>\n",
       "      <td>0.132471</td>\n",
       "      <td>0.356589</td>\n",
       "      <td>-0.262992</td>\n",
       "      <td>0.680702</td>\n",
       "      <td>0.556077</td>\n",
       "      <td>-0.602038</td>\n",
       "      <td>-0.261185</td>\n",
       "    </tr>\n",
       "    <tr>\n",
       "      <td>2</td>\n",
       "      <td>1</td>\n",
       "      <td>-7.644499</td>\n",
       "      <td>-1.705798</td>\n",
       "      <td>2.289327</td>\n",
       "      <td>-2.241142</td>\n",
       "      <td>-5.094477</td>\n",
       "      <td>-4.152081</td>\n",
       "      <td>1.012019</td>\n",
       "      <td>1.732595</td>\n",
       "      <td>0.436202</td>\n",
       "      <td>...</td>\n",
       "      <td>0.634648</td>\n",
       "      <td>-0.284925</td>\n",
       "      <td>0.090322</td>\n",
       "      <td>0.082116</td>\n",
       "      <td>0.348040</td>\n",
       "      <td>0.007318</td>\n",
       "      <td>-0.401325</td>\n",
       "      <td>-0.894845</td>\n",
       "      <td>-0.228741</td>\n",
       "      <td>-0.010822</td>\n",
       "    </tr>\n",
       "    <tr>\n",
       "      <td>3</td>\n",
       "      <td>4</td>\n",
       "      <td>-0.474249</td>\n",
       "      <td>5.836091</td>\n",
       "      <td>2.008598</td>\n",
       "      <td>-4.271167</td>\n",
       "      <td>-2.377729</td>\n",
       "      <td>2.179875</td>\n",
       "      <td>-4.397944</td>\n",
       "      <td>-0.353640</td>\n",
       "      <td>0.991715</td>\n",
       "      <td>...</td>\n",
       "      <td>0.567852</td>\n",
       "      <td>0.938572</td>\n",
       "      <td>-0.199528</td>\n",
       "      <td>-0.435639</td>\n",
       "      <td>0.321724</td>\n",
       "      <td>1.100357</td>\n",
       "      <td>1.655579</td>\n",
       "      <td>-0.271283</td>\n",
       "      <td>0.844534</td>\n",
       "      <td>-1.195976</td>\n",
       "    </tr>\n",
       "    <tr>\n",
       "      <td>4</td>\n",
       "      <td>0</td>\n",
       "      <td>26.559579</td>\n",
       "      <td>6.024807</td>\n",
       "      <td>0.933168</td>\n",
       "      <td>3.012646</td>\n",
       "      <td>-9.489092</td>\n",
       "      <td>-2.331205</td>\n",
       "      <td>6.149654</td>\n",
       "      <td>-1.783677</td>\n",
       "      <td>-4.123184</td>\n",
       "      <td>...</td>\n",
       "      <td>-0.556693</td>\n",
       "      <td>1.692625</td>\n",
       "      <td>-0.329418</td>\n",
       "      <td>-0.695266</td>\n",
       "      <td>0.581043</td>\n",
       "      <td>-0.542094</td>\n",
       "      <td>0.934397</td>\n",
       "      <td>0.599890</td>\n",
       "      <td>0.107686</td>\n",
       "      <td>-0.296380</td>\n",
       "    </tr>\n",
       "  </tbody>\n",
       "</table>\n",
       "<p>5 rows × 251 columns</p>\n",
       "</div>"
      ],
      "text/plain": [
       "   label          0         1         2         3         4         5  \\\n",
       "0      1  -5.140477 -5.226468  3.886991  0.901554 -4.929063  2.035396   \n",
       "1      0  19.292332  6.033029  1.308170  2.383256 -3.095249 -1.791090   \n",
       "2      1  -7.644499 -1.705798  2.289327 -2.241142 -5.094477 -4.152081   \n",
       "3      4  -0.474249  5.836091  2.008598 -4.271167 -2.377729  2.179875   \n",
       "4      0  26.559579  6.024807  0.933168  3.012646 -9.489092 -2.331205   \n",
       "\n",
       "          6         7         8  ...       240       241       242       243  \\\n",
       "0 -4.707070 -4.767223  0.230824  ... -0.032888  0.758930  0.113027 -0.214480   \n",
       "1  3.773000  0.154027 -4.115206  ... -0.269909  0.287691 -0.474057  0.132471   \n",
       "2  1.012019  1.732595  0.436202  ...  0.634648 -0.284925  0.090322  0.082116   \n",
       "3 -4.397944 -0.353640  0.991715  ...  0.567852  0.938572 -0.199528 -0.435639   \n",
       "4  6.149654 -1.783677 -4.123184  ... -0.556693  1.692625 -0.329418 -0.695266   \n",
       "\n",
       "        244       245       246       247       248       249  \n",
       "0  0.087568  0.458328  0.266982 -0.177202  0.025569  0.232638  \n",
       "1  0.356589 -0.262992  0.680702  0.556077 -0.602038 -0.261185  \n",
       "2  0.348040  0.007318 -0.401325 -0.894845 -0.228741 -0.010822  \n",
       "3  0.321724  1.100357  1.655579 -0.271283  0.844534 -1.195976  \n",
       "4  0.581043 -0.542094  0.934397  0.599890  0.107686 -0.296380  \n",
       "\n",
       "[5 rows x 251 columns]"
      ]
     },
     "execution_count": 61,
     "metadata": {},
     "output_type": "execute_result"
    }
   ],
   "source": [
    "test_final_df.head()"
   ]
  },
  {
   "cell_type": "code",
   "execution_count": 65,
   "metadata": {},
   "outputs": [
    {
     "data": {
      "image/png": "[encoded data removed]",
      "text/plain": [
       "<Figure size 720x720 with 10 Axes>"
      ]
     },
     "metadata": {
      "needs_background": "light"
     },
     "output_type": "display_data"
    }
   ],
   "source": [
    "plt.figure(figsize=[10,10])\n",
    "img_three = train.loc[train['label']==3].head(10).index.values\n",
    "for i in range(0,10):\n",
    "    one = train.iloc[img_three[i], 1:]\n",
    "    one = one.values.reshape(28,28)\n",
    "    plt.subplot(2,5,i+1)\n",
    "    plt.imshow(one)\n",
    "    plt.title(\"Digit 3\")"
   ]
  },
  {
   "cell_type": "code",
   "execution_count": 66,
   "metadata": {},
   "outputs": [],
   "source": [
    "from sklearn.svm import SVC\n",
    "from sklearn.model_selection import KFold\n",
    "from sklearn.model_selection import GridSearchCV\n",
    "from sklearn.pipeline import Pipeline"
   ]
  },
  {
   "cell_type": "code",
   "execution_count": 67,
   "metadata": {},
   "outputs": [],
   "source": [
    "folds=KFold(n_splits=3,shuffle=True,random_state=42)"
   ]
  },
  {
   "cell_type": "code",
   "execution_count": 68,
   "metadata": {},
   "outputs": [
    {
     "data": {
      "text/plain": [
       "SVC(C=1.0, cache_size=200, class_weight=None, coef0=0.0,\n",
       "    decision_function_shape='ovr', degree=3, gamma='auto_deprecated',\n",
       "    kernel='linear', max_iter=-1, probability=False, random_state=None,\n",
       "    shrinking=True, tol=0.001, verbose=False)"
      ]
     },
     "execution_count": 68,
     "metadata": {},
     "output_type": "execute_result"
    }
   ],
   "source": [
    "svc=SVC(kernel='linear')\n",
    "svc.fit(x_train_final,y_train)"
   ]
  },
  {
   "cell_type": "code",
   "execution_count": 69,
   "metadata": {},
   "outputs": [],
   "source": [
    "y_pred=svc.predict(x_test_final)"
   ]
  },
  {
   "cell_type": "code",
   "execution_count": 70,
   "metadata": {},
   "outputs": [],
   "source": [
    "from sklearn.metrics import confusion_matrix\n",
    "from sklearn import metrics\n",
    "matrix=confusion_matrix(y_true=y_test,y_pred=y_pred)"
   ]
  },
  {
   "cell_type": "code",
   "execution_count": 71,
   "metadata": {},
   "outputs": [
    {
     "data": {
      "text/plain": [
       "array([[4114,    0,    1,    1,    0,    5,    6,    0,    5,    0],\n",
       "       [   0, 4669,    3,    1,    0,    0,    0,    0,   11,    0],\n",
       "       [   4,   15, 4050,   27,   23,    6,    9,   13,   26,    4],\n",
       "       [   4,    5,   71, 4123,    1,   74,    2,    8,   49,   14],\n",
       "       [   2,    6,   13,    0, 3978,    0,    3,    3,    0,   67],\n",
       "       [  14,    6,   18,   96,   11, 3592,   16,    0,   37,    5],\n",
       "       [   9,    1,   10,    1,    8,   22, 4080,    0,    6,    0],\n",
       "       [   0,    5,   32,    8,   19,    1,    0, 4268,    2,   66],\n",
       "       [  12,   41,   30,   65,    2,   61,    6,    3, 3831,   12],\n",
       "       [   7,   12,    4,   27,   81,   11,    0,   94,   17, 3935]],\n",
       "      dtype=int64)"
      ]
     },
     "execution_count": 71,
     "metadata": {},
     "output_type": "execute_result"
    }
   ],
   "source": [
    "matrix"
   ]
  },
  {
   "cell_type": "code",
   "execution_count": 72,
   "metadata": {},
   "outputs": [
    {
     "data": {
      "text/plain": [
       "0.9676190476190476"
      ]
     },
     "execution_count": 72,
     "metadata": {},
     "output_type": "execute_result"
    }
   ],
   "source": [
    "metrics.accuracy_score(y_true=y_test,y_pred=y_pred)"
   ]
  },
  {
   "cell_type": "code",
   "execution_count": 44,
   "metadata": {},
   "outputs": [],
   "source": [
    "# specify range of parameters (C) as a list\n",
    "params = {\"C\": [0.1, 1, 10, 100, 1000]}\n",
    "\n",
    "model = SVC()\n",
    "\n",
    "# set up grid search scheme\n",
    "# note that we are still using the 5 fold CV scheme we set up earlier\n",
    "model_cv = GridSearchCV(estimator = model, param_grid = params, \n",
    "                        scoring= 'accuracy', \n",
    "                        cv = folds, \n",
    "                        verbose = 1,\n",
    "                       return_train_score=True)      "
   ]
  },
  {
   "cell_type": "code",
   "execution_count": 46,
   "metadata": {},
   "outputs": [
    {
     "name": "stdout",
     "output_type": "stream",
     "text": [
      "Fitting 3 folds for each of 5 candidates, totalling 15 fits\n"
     ]
    },
    {
     "name": "stderr",
     "output_type": "stream",
     "text": [
      "[Parallel(n_jobs=1)]: Using backend SequentialBackend with 1 concurrent workers.\n",
      "[Parallel(n_jobs=1)]: Done  15 out of  15 | elapsed: 97.4min finished\n"
     ]
    },
    {
     "data": {
      "text/plain": [
       "GridSearchCV(cv=KFold(n_splits=3, random_state=42, shuffle=True),\n",
       "             error_score='raise-deprecating',\n",
       "             estimator=SVC(C=1.0, cache_size=200, class_weight=None, coef0=0.0,\n",
       "                           decision_function_shape='ovr', degree=3,\n",
       "                           gamma='auto_deprecated', kernel='rbf', max_iter=-1,\n",
       "                           probability=False, random_state=None, shrinking=True,\n",
       "                           tol=0.001, verbose=False),\n",
       "             iid='warn', n_jobs=None, param_grid={'C': [0.1, 1, 10, 100, 1000]},\n",
       "             pre_dispatch='2*n_jobs', refit=True, return_train_score=True,\n",
       "             scoring='accuracy', verbose=1)"
      ]
     },
     "execution_count": 46,
     "metadata": {},
     "output_type": "execute_result"
    }
   ],
   "source": [
    "# fit the model - it will fit 5 folds across all values of C\n",
    "model_cv.fit(x_train_final, y_train)  "
   ]
  },
  {
   "cell_type": "code",
   "execution_count": 47,
   "metadata": {},
   "outputs": [
    {
     "data": {
      "text/html": [
       "<div>\n",
       "<style scoped>\n",
       "    .dataframe tbody tr th:only-of-type {\n",
       "        vertical-align: middle;\n",
       "    }\n",
       "\n",
       "    .dataframe tbody tr th {\n",
       "        vertical-align: top;\n",
       "    }\n",
       "\n",
       "    .dataframe thead th {\n",
       "        text-align: right;\n",
       "    }\n",
       "</style>\n",
       "<table border=\"1\" class=\"dataframe\">\n",
       "  <thead>\n",
       "    <tr style=\"text-align: right;\">\n",
       "      <th></th>\n",
       "      <th>mean_fit_time</th>\n",
       "      <th>std_fit_time</th>\n",
       "      <th>mean_score_time</th>\n",
       "      <th>std_score_time</th>\n",
       "      <th>param_C</th>\n",
       "      <th>params</th>\n",
       "      <th>split0_test_score</th>\n",
       "      <th>split1_test_score</th>\n",
       "      <th>split2_test_score</th>\n",
       "      <th>mean_test_score</th>\n",
       "      <th>std_test_score</th>\n",
       "      <th>rank_test_score</th>\n",
       "      <th>split0_train_score</th>\n",
       "      <th>split1_train_score</th>\n",
       "      <th>split2_train_score</th>\n",
       "      <th>mean_train_score</th>\n",
       "      <th>std_train_score</th>\n",
       "    </tr>\n",
       "  </thead>\n",
       "  <tbody>\n",
       "    <tr>\n",
       "      <td>0</td>\n",
       "      <td>267.095506</td>\n",
       "      <td>59.645548</td>\n",
       "      <td>105.914407</td>\n",
       "      <td>21.451829</td>\n",
       "      <td>0.1</td>\n",
       "      <td>{'C': 0.1}</td>\n",
       "      <td>0.877000</td>\n",
       "      <td>0.880643</td>\n",
       "      <td>0.876500</td>\n",
       "      <td>0.878048</td>\n",
       "      <td>0.001846</td>\n",
       "      <td>5</td>\n",
       "      <td>0.892786</td>\n",
       "      <td>0.892464</td>\n",
       "      <td>0.890000</td>\n",
       "      <td>0.891750</td>\n",
       "      <td>0.001244</td>\n",
       "    </tr>\n",
       "    <tr>\n",
       "      <td>1</td>\n",
       "      <td>175.328610</td>\n",
       "      <td>9.298873</td>\n",
       "      <td>73.654061</td>\n",
       "      <td>0.668081</td>\n",
       "      <td>1</td>\n",
       "      <td>{'C': 1}</td>\n",
       "      <td>0.948857</td>\n",
       "      <td>0.948714</td>\n",
       "      <td>0.950429</td>\n",
       "      <td>0.949333</td>\n",
       "      <td>0.000777</td>\n",
       "      <td>4</td>\n",
       "      <td>0.994821</td>\n",
       "      <td>0.995571</td>\n",
       "      <td>0.994929</td>\n",
       "      <td>0.995107</td>\n",
       "      <td>0.000331</td>\n",
       "    </tr>\n",
       "    <tr>\n",
       "      <td>2</td>\n",
       "      <td>159.195723</td>\n",
       "      <td>2.670819</td>\n",
       "      <td>62.263196</td>\n",
       "      <td>1.926841</td>\n",
       "      <td>10</td>\n",
       "      <td>{'C': 10}</td>\n",
       "      <td>0.953143</td>\n",
       "      <td>0.953500</td>\n",
       "      <td>0.955071</td>\n",
       "      <td>0.953905</td>\n",
       "      <td>0.000838</td>\n",
       "      <td>1</td>\n",
       "      <td>0.999964</td>\n",
       "      <td>0.999929</td>\n",
       "      <td>0.999929</td>\n",
       "      <td>0.999940</td>\n",
       "      <td>0.000017</td>\n",
       "    </tr>\n",
       "    <tr>\n",
       "      <td>3</td>\n",
       "      <td>154.643255</td>\n",
       "      <td>2.050095</td>\n",
       "      <td>60.401461</td>\n",
       "      <td>0.541274</td>\n",
       "      <td>100</td>\n",
       "      <td>{'C': 100}</td>\n",
       "      <td>0.953071</td>\n",
       "      <td>0.953500</td>\n",
       "      <td>0.954929</td>\n",
       "      <td>0.953833</td>\n",
       "      <td>0.000794</td>\n",
       "      <td>2</td>\n",
       "      <td>1.000000</td>\n",
       "      <td>1.000000</td>\n",
       "      <td>1.000000</td>\n",
       "      <td>1.000000</td>\n",
       "      <td>0.000000</td>\n",
       "    </tr>\n",
       "    <tr>\n",
       "      <td>4</td>\n",
       "      <td>151.612297</td>\n",
       "      <td>1.417815</td>\n",
       "      <td>59.837376</td>\n",
       "      <td>0.844128</td>\n",
       "      <td>1000</td>\n",
       "      <td>{'C': 1000}</td>\n",
       "      <td>0.953071</td>\n",
       "      <td>0.953500</td>\n",
       "      <td>0.954929</td>\n",
       "      <td>0.953833</td>\n",
       "      <td>0.000794</td>\n",
       "      <td>2</td>\n",
       "      <td>1.000000</td>\n",
       "      <td>1.000000</td>\n",
       "      <td>1.000000</td>\n",
       "      <td>1.000000</td>\n",
       "      <td>0.000000</td>\n",
       "    </tr>\n",
       "  </tbody>\n",
       "</table>\n",
       "</div>"
      ],
      "text/plain": [
       "   mean_fit_time  std_fit_time  mean_score_time  std_score_time param_C  \\\n",
       "0     267.095506     59.645548       105.914407       21.451829     0.1   \n",
       "1     175.328610      9.298873        73.654061        0.668081       1   \n",
       "2     159.195723      2.670819        62.263196        1.926841      10   \n",
       "3     154.643255      2.050095        60.401461        0.541274     100   \n",
       "4     151.612297      1.417815        59.837376        0.844128    1000   \n",
       "\n",
       "        params  split0_test_score  split1_test_score  split2_test_score  \\\n",
       "0   {'C': 0.1}           0.877000           0.880643           0.876500   \n",
       "1     {'C': 1}           0.948857           0.948714           0.950429   \n",
       "2    {'C': 10}           0.953143           0.953500           0.955071   \n",
       "3   {'C': 100}           0.953071           0.953500           0.954929   \n",
       "4  {'C': 1000}           0.953071           0.953500           0.954929   \n",
       "\n",
       "   mean_test_score  std_test_score  rank_test_score  split0_train_score  \\\n",
       "0         0.878048        0.001846                5            0.892786   \n",
       "1         0.949333        0.000777                4            0.994821   \n",
       "2         0.953905        0.000838                1            0.999964   \n",
       "3         0.953833        0.000794                2            1.000000   \n",
       "4         0.953833        0.000794                2            1.000000   \n",
       "\n",
       "   split1_train_score  split2_train_score  mean_train_score  std_train_score  \n",
       "0            0.892464            0.890000          0.891750         0.001244  \n",
       "1            0.995571            0.994929          0.995107         0.000331  \n",
       "2            0.999929            0.999929          0.999940         0.000017  \n",
       "3            1.000000            1.000000          1.000000         0.000000  \n",
       "4            1.000000            1.000000          1.000000         0.000000  "
      ]
     },
     "execution_count": 47,
     "metadata": {},
     "output_type": "execute_result"
    }
   ],
   "source": [
    "cv_results = pd.DataFrame(model_cv.cv_results_)\n",
    "cv_results"
   ]
  },
  {
   "cell_type": "code",
   "execution_count": 48,
   "metadata": {},
   "outputs": [
    {
     "data": {
      "image/png": "[encoded data removed]",
      "text/plain": [
       "<Figure size 576x432 with 1 Axes>"
      ]
     },
     "metadata": {
      "needs_background": "light"
     },
     "output_type": "display_data"
    }
   ],
   "source": [
    "# plot of C versus train and test scores\n",
    "\n",
    "plt.figure(figsize=(8, 6))\n",
    "plt.plot(cv_results['param_C'], cv_results['mean_test_score'])\n",
    "plt.plot(cv_results['param_C'], cv_results['mean_train_score'])\n",
    "plt.xlabel('C')\n",
    "plt.ylabel('Accuracy')\n",
    "plt.legend(['test accuracy', 'train accuracy'], loc='upper left')\n",
    "plt.xscale('log')"
   ]
  },
  {
   "cell_type": "code",
   "execution_count": 49,
   "metadata": {},
   "outputs": [
    {
     "name": "stdout",
     "output_type": "stream",
     "text": [
      " The highest test accuracy is 0.9539047619047619 at C = 10\n"
     ]
    }
   ],
   "source": [
    "best_score = model_cv.best_score_\n",
    "best_C = model_cv.best_params_['C']\n",
    "\n",
    "print(\" The highest test accuracy is {0} at C = {1}\".format(best_score, best_C))"
   ]
  },
  {
   "cell_type": "code",
   "execution_count": null,
   "metadata": {},
   "outputs": [],
   "source": []
  }
 ],
 "metadata": {
  "kernelspec": {
   "display_name": "Python 3",
   "language": "python",
   "name": "python3"
  }
 },
 "nbformat": 4,
 "nbformat_minor": 2
}
